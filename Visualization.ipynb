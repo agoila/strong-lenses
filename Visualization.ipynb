{
 "cells": [
  {
   "cell_type": "code",
   "execution_count": null,
   "metadata": {},
   "outputs": [],
   "source": [
    "import utils, models_preprocessing, metrics\n",
    "import numpy\n",
    "from keras.preprocessing.image import ImageDataGenerator"
   ]
  },
  {
   "cell_type": "code",
   "execution_count": null,
   "metadata": {},
   "outputs": [],
   "source": [
    "model_function = models_preprocessing.compiledConvnet\n",
    "# model_function = models_preprocessing.compiledRegularizedConvnet\n",
    "auroc = metrics.auroc\n",
    "accuracy = metrics.accuracy\n",
    "text = metrics.basicTextMetrics"
   ]
  },
  {
   "cell_type": "code",
   "execution_count": null,
   "metadata": {},
   "outputs": [],
   "source": [
    "from quiver_engine import server.launch as launch\n",
    "#launch(model)"
   ]
  },
  {
   "cell_type": "code",
   "execution_count": null,
   "metadata": {},
   "outputs": [],
   "source": [
    "data = numpy.load('data/source.npy')\n",
    "labels = numpy.load('labels/classification.npy')"
   ]
  },
  {
   "cell_type": "code",
   "execution_count": null,
   "metadata": {},
   "outputs": [],
   "source": [
    "## Run 1: Compiled ConvNet\n",
    "# utils.epoch_curve(model_function, data, labels, 0.3, range(1,41), [auroc, accuracy])"
   ]
  },
  {
   "cell_type": "code",
   "execution_count": null,
   "metadata": {},
   "outputs": [],
   "source": [
    "## Run 2: Compiled Regularized ConvNet\n",
    "#generator = ImageDataGenerator(horizontal_flip=True, vertical_flip=True)\n",
    "#utils.epoch_curve_generator(model_function, data, labels, generator, 32, 0.3, range(1, 41), [auroc, accuracy])"
   ]
  },
  {
   "cell_type": "code",
   "execution_count": null,
   "metadata": {},
   "outputs": [],
   "source": [
    "## Run 3: Complied Convnet and Compiled Regularized Convnet with 5-fold cross-validation\n",
    "utils.cross_validation(model_function, data, labels, 5, 20, metrics_array=text)"
   ]
  }
 ],
 "metadata": {
  "kernelspec": {
   "display_name": "Python 3",
   "language": "python",
   "name": "python3"
  },
  "language_info": {
   "codemirror_mode": {
    "name": "ipython",
    "version": 3
   },
   "file_extension": ".py",
   "mimetype": "text/x-python",
   "name": "python",
   "nbconvert_exporter": "python",
   "pygments_lexer": "ipython3",
   "version": "3.6.3"
  }
 },
 "nbformat": 4,
 "nbformat_minor": 2
}
