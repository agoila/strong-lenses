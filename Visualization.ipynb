{
 "cells": [
  {
   "cell_type": "code",
   "execution_count": 1,
   "metadata": {},
   "outputs": [
    {
     "name": "stderr",
     "output_type": "stream",
     "text": [
      "Using TensorFlow backend.\n",
      "/usr/lib/python3.6/importlib/_bootstrap.py:219: RuntimeWarning: compiletime version 3.5 of module 'tensorflow.python.framework.fast_tensor_util' does not match runtime version 3.6\n",
      "  return f(*args, **kwds)\n"
     ]
    }
   ],
   "source": [
    "import utils, models_preprocessing, metrics\n",
    "import numpy\n",
    "from keras.preprocessing.image import ImageDataGenerator"
   ]
  },
  {
   "cell_type": "code",
   "execution_count": 2,
   "metadata": {},
   "outputs": [],
   "source": [
    "model_function = models_preprocessing.compiledConvnet\n",
    "# model_function = models_preprocessing.compiledRegularizedConvnet\n",
    "auroc = metrics.auroc\n",
    "accuracy = metrics.accuracy\n",
    "text = metrics.basicTextMetrics"
   ]
  },
  {
   "cell_type": "code",
   "execution_count": 3,
   "metadata": {},
   "outputs": [],
   "source": [
    "from quiver_engine import server"
   ]
  },
  {
   "cell_type": "code",
   "execution_count": 4,
   "metadata": {},
   "outputs": [],
   "source": [
    "data = numpy.load('data/imadjust.npy')\n",
    "labels = numpy.load('labels/classification.npy')"
   ]
  },
  {
   "cell_type": "code",
   "execution_count": 5,
   "metadata": {},
   "outputs": [],
   "source": [
    "%matplotlib inline"
   ]
  },
  {
   "cell_type": "code",
   "execution_count": 6,
   "metadata": {},
   "outputs": [
    {
     "name": "stdout",
     "output_type": "stream",
     "text": [
      "Epoch 1/1\n",
      "14000/14000 [==============================] - 110s 8ms/step - loss: 0.6185 - acc: 0.7093\n",
      "Epoch 1/1\n",
      "14000/14000 [==============================] - 106s 8ms/step - loss: 0.4494 - acc: 0.7946\n",
      "Epoch 1/1\n",
      "14000/14000 [==============================] - 101s 7ms/step - loss: 0.3839 - acc: 0.8293\n",
      "Epoch 1/1\n",
      "14000/14000 [==============================] - 101s 7ms/step - loss: 0.3380 - acc: 0.8529\n",
      "Epoch 1/1\n",
      "14000/14000 [==============================] - 101s 7ms/step - loss: 0.2935 - acc: 0.8760\n",
      "Epoch 1/1\n",
      "14000/14000 [==============================] - 101s 7ms/step - loss: 0.2677 - acc: 0.8860\n",
      "Epoch 1/1\n",
      "14000/14000 [==============================] - 101s 7ms/step - loss: 0.2380 - acc: 0.9016\n",
      "Epoch 1/1\n",
      "14000/14000 [==============================] - 101s 7ms/step - loss: 0.2105 - acc: 0.9149\n",
      "Epoch 1/1\n",
      "14000/14000 [==============================] - 101s 7ms/step - loss: 0.1841 - acc: 0.9287\n",
      "Epoch 1/1\n",
      "14000/14000 [==============================] - 101s 7ms/step - loss: 0.1655 - acc: 0.9354\n",
      "Epoch 1/1\n",
      "14000/14000 [==============================] - 101s 7ms/step - loss: 0.1423 - acc: 0.9456\n",
      "Epoch 1/1\n",
      "14000/14000 [==============================] - 101s 7ms/step - loss: 0.1230 - acc: 0.9550\n",
      "Epoch 1/1\n",
      "14000/14000 [==============================] - 101s 7ms/step - loss: 0.0994 - acc: 0.9657\n",
      "Epoch 1/1\n",
      "14000/14000 [==============================] - 101s 7ms/step - loss: 0.0845 - acc: 0.9719\n",
      "Epoch 1/1\n",
      "14000/14000 [==============================] - 101s 7ms/step - loss: 0.0684 - acc: 0.9794\n",
      "Epoch 1/1\n",
      "14000/14000 [==============================] - 101s 7ms/step - loss: 0.0615 - acc: 0.9791\n",
      "Epoch 1/1\n",
      "14000/14000 [==============================] - 101s 7ms/step - loss: 0.0431 - acc: 0.9896\n",
      "Epoch 1/1\n",
      "14000/14000 [==============================] - 101s 7ms/step - loss: 0.0390 - acc: 0.9899\n",
      "Epoch 1/1\n",
      "14000/14000 [==============================] - 101s 7ms/step - loss: 0.0307 - acc: 0.9931\n",
      "Epoch 1/1\n",
      "14000/14000 [==============================] - 101s 7ms/step - loss: 0.0226 - acc: 0.9963\n",
      "Epoch 1/1\n",
      "14000/14000 [==============================] - 101s 7ms/step - loss: 0.0163 - acc: 0.9978\n",
      "Epoch 1/1\n",
      "14000/14000 [==============================] - 101s 7ms/step - loss: 0.0194 - acc: 0.9954\n",
      "Epoch 1/1\n",
      "14000/14000 [==============================] - 101s 7ms/step - loss: 0.0247 - acc: 0.9941\n",
      "Epoch 1/1\n",
      "14000/14000 [==============================] - 101s 7ms/step - loss: 0.0121 - acc: 0.9981\n",
      "Epoch 1/1\n",
      "14000/14000 [==============================] - 101s 7ms/step - loss: 0.0091 - acc: 0.9984\n",
      "Epoch 1/1\n",
      "14000/14000 [==============================] - 101s 7ms/step - loss: 0.0094 - acc: 0.9976\n",
      "Epoch 1/1\n",
      "14000/14000 [==============================] - 101s 7ms/step - loss: 0.0185 - acc: 0.9942\n",
      "Epoch 1/1\n",
      "14000/14000 [==============================] - 101s 7ms/step - loss: 0.0047 - acc: 0.9994\n",
      "Epoch 1/1\n",
      "14000/14000 [==============================] - 101s 7ms/step - loss: 0.0029 - acc: 0.9999\n",
      "Epoch 1/1\n",
      "14000/14000 [==============================] - 101s 7ms/step - loss: 0.0031 - acc: 0.9992\n",
      "Epoch 1/1\n",
      "14000/14000 [==============================] - 101s 7ms/step - loss: 0.0219 - acc: 0.9931\n",
      "Epoch 1/1\n",
      "14000/14000 [==============================] - 101s 7ms/step - loss: 0.0055 - acc: 0.9991\n",
      "Epoch 1/1\n",
      "14000/14000 [==============================] - 101s 7ms/step - loss: 0.0045 - acc: 0.9992\n",
      "Epoch 1/1\n",
      "14000/14000 [==============================] - 101s 7ms/step - loss: 0.0023 - acc: 0.9998\n",
      "Epoch 1/1\n",
      "14000/14000 [==============================] - 101s 7ms/step - loss: 0.0062 - acc: 0.9981\n",
      "Epoch 1/1\n",
      "14000/14000 [==============================] - 102s 7ms/step - loss: 0.0071 - acc: 0.9984\n",
      "Epoch 1/1\n",
      "14000/14000 [==============================] - 101s 7ms/step - loss: 9.9467e-04 - acc: 1.0000\n",
      "Epoch 1/1\n",
      "14000/14000 [==============================] - 101s 7ms/step - loss: 0.0015 - acc: 0.9997\n",
      "Epoch 1/1\n",
      "14000/14000 [==============================] - 101s 7ms/step - loss: 0.0206 - acc: 0.9936\n",
      "Epoch 1/1\n",
      "14000/14000 [==============================] - 101s 7ms/step - loss: 0.0037 - acc: 0.9994\n",
      "[[0.82587727318660997, 0.8625706644838036, 0.88660877424710305, 0.90084232191443903, 0.90590050528253052, 0.91131969527952428, 0.911279653848454, 0.91265051113030793, 0.91454058190396958, 0.91158805928805076, 0.90897580241587506, 0.90909091432850642, 0.91211551152035186, 0.90547191793615289, 0.90910358931388102, 0.90448966418317622, 0.91627745819530559, 0.91491996726166502, 0.91426737835557292, 0.91369147311099808, 0.91228293655443882, 0.91388257732230793, 0.91298328710996612, 0.91734981957158324, 0.91684529754009647, 0.90612940399568542, 0.91582951268944635, 0.9158495045981967, 0.91624260198552498, 0.91342864000518054, 0.91413371487343842, 0.91370120980430869, 0.90940248851444672, 0.91447029334870922, 0.90919640477496666, 0.91801709993799629, 0.91811314175899517, 0.9156805239977226, 0.91423073612512551, 0.91693396482415024], [0.696, 0.7996666666666666, 0.7996666666666666, 0.8461666666666666, 0.8308333333333333, 0.8503333333333334, 0.8573333333333333, 0.8528333333333333, 0.856, 0.8585, 0.8538333333333333, 0.8598333333333333, 0.8606666666666667, 0.856, 0.8553333333333333, 0.8606666666666667, 0.8611666666666666, 0.8615, 0.8636666666666667, 0.8618333333333333, 0.862, 0.8538333333333333, 0.8631666666666666, 0.8653333333333333, 0.8665, 0.8283333333333334, 0.8625, 0.8596666666666667, 0.8655, 0.8521666666666666, 0.8568333333333333, 0.8601666666666666, 0.8526666666666667, 0.8628333333333333, 0.8415, 0.8638333333333333, 0.86, 0.8591666666666666, 0.8633333333333333, 0.8608333333333333]]\n",
      "[1, 2, 3, 4, 5, 6, 7, 8, 9, 10, 11, 12, 13, 14, 15, 16, 17, 18, 19, 20, 21, 22, 23, 24, 25, 26, 27, 28, 29, 30, 31, 32, 33, 34, 35, 36, 37, 38, 39, 40]\n"
     ]
    },
    {
     "data": {
      "image/png": "[encoded data removed]",
      "text/plain": [
       "<matplotlib.figure.Figure at 0x7fd41d4fafd0>"
      ]
     },
     "metadata": {},
     "output_type": "display_data"
    },
    {
     "data": {
      "image/png": "[encoded data removed]",
      "text/plain": [
       "<matplotlib.figure.Figure at 0x7fd41915fc88>"
      ]
     },
     "metadata": {},
     "output_type": "display_data"
    },
    {
     "data": {
      "text/plain": [
       "{'epochs': [1,\n",
       "  2,\n",
       "  3,\n",
       "  4,\n",
       "  5,\n",
       "  6,\n",
       "  7,\n",
       "  8,\n",
       "  9,\n",
       "  10,\n",
       "  11,\n",
       "  12,\n",
       "  13,\n",
       "  14,\n",
       "  15,\n",
       "  16,\n",
       "  17,\n",
       "  18,\n",
       "  19,\n",
       "  20,\n",
       "  21,\n",
       "  22,\n",
       "  23,\n",
       "  24,\n",
       "  25,\n",
       "  26,\n",
       "  27,\n",
       "  28,\n",
       "  29,\n",
       "  30,\n",
       "  31,\n",
       "  32,\n",
       "  33,\n",
       "  34,\n",
       "  35,\n",
       "  36,\n",
       "  37,\n",
       "  38,\n",
       "  39,\n",
       "  40],\n",
       " 'results': [[0.82587727318660997,\n",
       "   0.8625706644838036,\n",
       "   0.88660877424710305,\n",
       "   0.90084232191443903,\n",
       "   0.90590050528253052,\n",
       "   0.91131969527952428,\n",
       "   0.911279653848454,\n",
       "   0.91265051113030793,\n",
       "   0.91454058190396958,\n",
       "   0.91158805928805076,\n",
       "   0.90897580241587506,\n",
       "   0.90909091432850642,\n",
       "   0.91211551152035186,\n",
       "   0.90547191793615289,\n",
       "   0.90910358931388102,\n",
       "   0.90448966418317622,\n",
       "   0.91627745819530559,\n",
       "   0.91491996726166502,\n",
       "   0.91426737835557292,\n",
       "   0.91369147311099808,\n",
       "   0.91228293655443882,\n",
       "   0.91388257732230793,\n",
       "   0.91298328710996612,\n",
       "   0.91734981957158324,\n",
       "   0.91684529754009647,\n",
       "   0.90612940399568542,\n",
       "   0.91582951268944635,\n",
       "   0.9158495045981967,\n",
       "   0.91624260198552498,\n",
       "   0.91342864000518054,\n",
       "   0.91413371487343842,\n",
       "   0.91370120980430869,\n",
       "   0.90940248851444672,\n",
       "   0.91447029334870922,\n",
       "   0.90919640477496666,\n",
       "   0.91801709993799629,\n",
       "   0.91811314175899517,\n",
       "   0.9156805239977226,\n",
       "   0.91423073612512551,\n",
       "   0.91693396482415024],\n",
       "  [0.696,\n",
       "   0.7996666666666666,\n",
       "   0.7996666666666666,\n",
       "   0.8461666666666666,\n",
       "   0.8308333333333333,\n",
       "   0.8503333333333334,\n",
       "   0.8573333333333333,\n",
       "   0.8528333333333333,\n",
       "   0.856,\n",
       "   0.8585,\n",
       "   0.8538333333333333,\n",
       "   0.8598333333333333,\n",
       "   0.8606666666666667,\n",
       "   0.856,\n",
       "   0.8553333333333333,\n",
       "   0.8606666666666667,\n",
       "   0.8611666666666666,\n",
       "   0.8615,\n",
       "   0.8636666666666667,\n",
       "   0.8618333333333333,\n",
       "   0.862,\n",
       "   0.8538333333333333,\n",
       "   0.8631666666666666,\n",
       "   0.8653333333333333,\n",
       "   0.8665,\n",
       "   0.8283333333333334,\n",
       "   0.8625,\n",
       "   0.8596666666666667,\n",
       "   0.8655,\n",
       "   0.8521666666666666,\n",
       "   0.8568333333333333,\n",
       "   0.8601666666666666,\n",
       "   0.8526666666666667,\n",
       "   0.8628333333333333,\n",
       "   0.8415,\n",
       "   0.8638333333333333,\n",
       "   0.86,\n",
       "   0.8591666666666666,\n",
       "   0.8633333333333333,\n",
       "   0.8608333333333333]]}"
      ]
     },
     "execution_count": 6,
     "metadata": {},
     "output_type": "execute_result"
    }
   ],
   "source": [
    "## Run 1: Compiled ConvNet\n",
    "utils.epoch_curve(model_function, data, labels, 0.3, range(1,41), [auroc, accuracy])"
   ]
  },
  {
   "cell_type": "code",
   "execution_count": 16,
   "metadata": {},
   "outputs": [
    {
     "name": "stdout",
     "output_type": "stream",
     "text": [
      "Starting webserver from: /home/nbuser/.local/lib/python3.6/site-packages/quiver_engine\n"
     ]
    },
    {
     "name": "stderr",
     "output_type": "stream",
     "text": [
      "KeyboardInterrupt\n",
      "Sat Dec  9 22:42:44 2017\n"
     ]
    },
    {
     "ename": "KeyboardInterrupt",
     "evalue": "",
     "output_type": "error",
     "traceback": [
      "\u001b[0;31m---------------------------------------------------------------------------\u001b[0m",
      "\u001b[0;31mKeyboardInterrupt\u001b[0m                         Traceback (most recent call last)",
      "\u001b[0;32m<ipython-input-16-ef2c9b45844d>\u001b[0m in \u001b[0;36m<module>\u001b[0;34m()\u001b[0m\n\u001b[0;32m----> 1\u001b[0;31m \u001b[0mserver\u001b[0m\u001b[0;34m.\u001b[0m\u001b[0mlaunch\u001b[0m\u001b[0;34m(\u001b[0m\u001b[0mmodels_preprocessing\u001b[0m\u001b[0;34m.\u001b[0m\u001b[0mcompiledConvnet\u001b[0m\u001b[0;34m(\u001b[0m\u001b[0;34m)\u001b[0m\u001b[0;34m,\u001b[0m \u001b[0minput_folder\u001b[0m\u001b[0;34m=\u001b[0m\u001b[0;34m'test_photos/'\u001b[0m\u001b[0;34m)\u001b[0m\u001b[0;34m\u001b[0m\u001b[0m\n\u001b[0m",
      "\u001b[0;32m~/.local/lib/python3.6/site-packages/quiver_engine/server.py\u001b[0m in \u001b[0;36mlaunch\u001b[0;34m(model, temp_folder, input_folder, port, html_base_dir)\u001b[0m\n\u001b[1;32m    159\u001b[0m         get_app(model, html_base_dir=html_base_dir,\n\u001b[1;32m    160\u001b[0m                 temp_folder=temp_folder, input_folder=input_folder),\n\u001b[0;32m--> 161\u001b[0;31m         \u001b[0mport\u001b[0m\u001b[0;34m\u001b[0m\u001b[0m\n\u001b[0m\u001b[1;32m    162\u001b[0m     )\n\u001b[1;32m    163\u001b[0m \u001b[0;34m\u001b[0m\u001b[0m\n",
      "\u001b[0;32m~/.local/lib/python3.6/site-packages/quiver_engine/server.py\u001b[0m in \u001b[0;36mrun_app\u001b[0;34m(app, port)\u001b[0m\n\u001b[1;32m    143\u001b[0m     \u001b[0mhttp_server\u001b[0m \u001b[0;34m=\u001b[0m \u001b[0mWSGIServer\u001b[0m\u001b[0;34m(\u001b[0m\u001b[0;34m(\u001b[0m\u001b[0;34m''\u001b[0m\u001b[0;34m,\u001b[0m \u001b[0mport\u001b[0m\u001b[0;34m)\u001b[0m\u001b[0;34m,\u001b[0m \u001b[0mapp\u001b[0m\u001b[0;34m)\u001b[0m\u001b[0;34m\u001b[0m\u001b[0m\n\u001b[1;32m    144\u001b[0m     \u001b[0mwebbrowser\u001b[0m\u001b[0;34m.\u001b[0m\u001b[0mopen_new\u001b[0m\u001b[0;34m(\u001b[0m\u001b[0;34m'http://localhost:'\u001b[0m \u001b[0;34m+\u001b[0m \u001b[0mstr\u001b[0m\u001b[0;34m(\u001b[0m\u001b[0mport\u001b[0m\u001b[0;34m)\u001b[0m\u001b[0;34m)\u001b[0m\u001b[0;34m\u001b[0m\u001b[0m\n\u001b[0;32m--> 145\u001b[0;31m     \u001b[0mhttp_server\u001b[0m\u001b[0;34m.\u001b[0m\u001b[0mserve_forever\u001b[0m\u001b[0;34m(\u001b[0m\u001b[0;34m)\u001b[0m\u001b[0;34m\u001b[0m\u001b[0m\n\u001b[0m\u001b[1;32m    146\u001b[0m \u001b[0;34m\u001b[0m\u001b[0m\n\u001b[1;32m    147\u001b[0m \u001b[0;34m\u001b[0m\u001b[0m\n",
      "\u001b[0;32m~/.local/lib/python3.6/site-packages/gevent/baseserver.py\u001b[0m in \u001b[0;36mserve_forever\u001b[0;34m(self, stop_timeout)\u001b[0m\n\u001b[1;32m    360\u001b[0m             \u001b[0mself\u001b[0m\u001b[0;34m.\u001b[0m\u001b[0mstart\u001b[0m\u001b[0;34m(\u001b[0m\u001b[0;34m)\u001b[0m\u001b[0;34m\u001b[0m\u001b[0m\n\u001b[1;32m    361\u001b[0m         \u001b[0;32mtry\u001b[0m\u001b[0;34m:\u001b[0m\u001b[0;34m\u001b[0m\u001b[0m\n\u001b[0;32m--> 362\u001b[0;31m             \u001b[0mself\u001b[0m\u001b[0;34m.\u001b[0m\u001b[0m_stop_event\u001b[0m\u001b[0;34m.\u001b[0m\u001b[0mwait\u001b[0m\u001b[0;34m(\u001b[0m\u001b[0;34m)\u001b[0m\u001b[0;34m\u001b[0m\u001b[0m\n\u001b[0m\u001b[1;32m    363\u001b[0m         \u001b[0;32mfinally\u001b[0m\u001b[0;34m:\u001b[0m\u001b[0;34m\u001b[0m\u001b[0m\n\u001b[1;32m    364\u001b[0m             \u001b[0mGreenlet\u001b[0m\u001b[0;34m.\u001b[0m\u001b[0mspawn\u001b[0m\u001b[0;34m(\u001b[0m\u001b[0mself\u001b[0m\u001b[0;34m.\u001b[0m\u001b[0mstop\u001b[0m\u001b[0;34m,\u001b[0m \u001b[0mtimeout\u001b[0m\u001b[0;34m=\u001b[0m\u001b[0mstop_timeout\u001b[0m\u001b[0;34m)\u001b[0m\u001b[0;34m.\u001b[0m\u001b[0mjoin\u001b[0m\u001b[0;34m(\u001b[0m\u001b[0;34m)\u001b[0m\u001b[0;34m\u001b[0m\u001b[0m\n",
      "\u001b[0;32m~/.local/lib/python3.6/site-packages/gevent/event.py\u001b[0m in \u001b[0;36mwait\u001b[0;34m(self, timeout)\u001b[0m\n\u001b[1;32m    217\u001b[0m             \u001b[0mnoticeable\u001b[0m \u001b[0mwhen\u001b[0m \u001b[0mthe\u001b[0m \u001b[0;34m*\u001b[0m\u001b[0mtimeout\u001b[0m\u001b[0;34m*\u001b[0m \u001b[0;32mis\u001b[0m \u001b[0mpresent\u001b[0m\u001b[0;34m.\u001b[0m\u001b[0;34m\u001b[0m\u001b[0m\n\u001b[1;32m    218\u001b[0m         \"\"\"\n\u001b[0;32m--> 219\u001b[0;31m         \u001b[0;32mreturn\u001b[0m \u001b[0mself\u001b[0m\u001b[0;34m.\u001b[0m\u001b[0m_wait\u001b[0m\u001b[0;34m(\u001b[0m\u001b[0mtimeout\u001b[0m\u001b[0;34m)\u001b[0m\u001b[0;34m\u001b[0m\u001b[0m\n\u001b[0m\u001b[1;32m    220\u001b[0m \u001b[0;34m\u001b[0m\u001b[0m\n\u001b[1;32m    221\u001b[0m     \u001b[0;32mdef\u001b[0m \u001b[0m_reset_internal_locks\u001b[0m\u001b[0;34m(\u001b[0m\u001b[0mself\u001b[0m\u001b[0;34m)\u001b[0m\u001b[0;34m:\u001b[0m \u001b[0;31m# pragma: no cover\u001b[0m\u001b[0;34m\u001b[0m\u001b[0m\n",
      "\u001b[0;32m~/.local/lib/python3.6/site-packages/gevent/event.py\u001b[0m in \u001b[0;36m_wait\u001b[0;34m(self, timeout)\u001b[0m\n\u001b[1;32m    127\u001b[0m             \u001b[0;32mreturn\u001b[0m \u001b[0mself\u001b[0m\u001b[0;34m.\u001b[0m\u001b[0m_wait_return_value\u001b[0m\u001b[0;34m(\u001b[0m\u001b[0;32mFalse\u001b[0m\u001b[0;34m,\u001b[0m \u001b[0;32mFalse\u001b[0m\u001b[0;34m)\u001b[0m\u001b[0;34m\u001b[0m\u001b[0m\n\u001b[1;32m    128\u001b[0m \u001b[0;34m\u001b[0m\u001b[0m\n\u001b[0;32m--> 129\u001b[0;31m         \u001b[0mgotit\u001b[0m \u001b[0;34m=\u001b[0m \u001b[0mself\u001b[0m\u001b[0;34m.\u001b[0m\u001b[0m_wait_core\u001b[0m\u001b[0;34m(\u001b[0m\u001b[0mtimeout\u001b[0m\u001b[0;34m)\u001b[0m\u001b[0;34m\u001b[0m\u001b[0m\n\u001b[0m\u001b[1;32m    130\u001b[0m         \u001b[0;32mreturn\u001b[0m \u001b[0mself\u001b[0m\u001b[0;34m.\u001b[0m\u001b[0m_wait_return_value\u001b[0m\u001b[0;34m(\u001b[0m\u001b[0;32mTrue\u001b[0m\u001b[0;34m,\u001b[0m \u001b[0mgotit\u001b[0m\u001b[0;34m)\u001b[0m\u001b[0;34m\u001b[0m\u001b[0m\n\u001b[1;32m    131\u001b[0m \u001b[0;34m\u001b[0m\u001b[0m\n",
      "\u001b[0;32m~/.local/lib/python3.6/site-packages/gevent/event.py\u001b[0m in \u001b[0;36m_wait_core\u001b[0;34m(self, timeout, catch)\u001b[0m\n\u001b[1;32m    104\u001b[0m             \u001b[0;32mtry\u001b[0m\u001b[0;34m:\u001b[0m\u001b[0;34m\u001b[0m\u001b[0m\n\u001b[1;32m    105\u001b[0m                 \u001b[0;32mtry\u001b[0m\u001b[0;34m:\u001b[0m\u001b[0;34m\u001b[0m\u001b[0m\n\u001b[0;32m--> 106\u001b[0;31m                     \u001b[0mresult\u001b[0m \u001b[0;34m=\u001b[0m \u001b[0mself\u001b[0m\u001b[0;34m.\u001b[0m\u001b[0mhub\u001b[0m\u001b[0;34m.\u001b[0m\u001b[0mswitch\u001b[0m\u001b[0;34m(\u001b[0m\u001b[0;34m)\u001b[0m\u001b[0;34m\u001b[0m\u001b[0m\n\u001b[0m\u001b[1;32m    107\u001b[0m                     \u001b[0;32mif\u001b[0m \u001b[0mresult\u001b[0m \u001b[0;32mis\u001b[0m \u001b[0;32mnot\u001b[0m \u001b[0mself\u001b[0m\u001b[0;34m:\u001b[0m \u001b[0;31m# pragma: no cover\u001b[0m\u001b[0;34m\u001b[0m\u001b[0m\n\u001b[1;32m    108\u001b[0m                         \u001b[0;32mraise\u001b[0m \u001b[0mInvalidSwitchError\u001b[0m\u001b[0;34m(\u001b[0m\u001b[0;34m'Invalid switch into Event.wait(): %r'\u001b[0m \u001b[0;34m%\u001b[0m \u001b[0;34m(\u001b[0m\u001b[0mresult\u001b[0m\u001b[0;34m,\u001b[0m \u001b[0;34m)\u001b[0m\u001b[0;34m)\u001b[0m\u001b[0;34m\u001b[0m\u001b[0m\n",
      "\u001b[0;32m~/.local/lib/python3.6/site-packages/gevent/hub.py\u001b[0m in \u001b[0;36mswitch\u001b[0;34m(self)\u001b[0m\n\u001b[1;32m    628\u001b[0m         \u001b[0;32mif\u001b[0m \u001b[0mswitch_out\u001b[0m \u001b[0;32mis\u001b[0m \u001b[0;32mnot\u001b[0m \u001b[0;32mNone\u001b[0m\u001b[0;34m:\u001b[0m\u001b[0;34m\u001b[0m\u001b[0m\n\u001b[1;32m    629\u001b[0m             \u001b[0mswitch_out\u001b[0m\u001b[0;34m(\u001b[0m\u001b[0;34m)\u001b[0m\u001b[0;34m\u001b[0m\u001b[0m\n\u001b[0;32m--> 630\u001b[0;31m         \u001b[0;32mreturn\u001b[0m \u001b[0mRawGreenlet\u001b[0m\u001b[0;34m.\u001b[0m\u001b[0mswitch\u001b[0m\u001b[0;34m(\u001b[0m\u001b[0mself\u001b[0m\u001b[0;34m)\u001b[0m\u001b[0;34m\u001b[0m\u001b[0m\n\u001b[0m\u001b[1;32m    631\u001b[0m \u001b[0;34m\u001b[0m\u001b[0m\n\u001b[1;32m    632\u001b[0m     \u001b[0;32mdef\u001b[0m \u001b[0mswitch_out\u001b[0m\u001b[0;34m(\u001b[0m\u001b[0mself\u001b[0m\u001b[0;34m)\u001b[0m\u001b[0;34m:\u001b[0m\u001b[0;34m\u001b[0m\u001b[0m\n",
      "\u001b[0;31mKeyboardInterrupt\u001b[0m: "
     ]
    }
   ],
   "source": [
    "server.launch(models_preprocessing.compiledConvnet(), input_folder='test_photos/')"
   ]
  },
  {
   "cell_type": "code",
   "execution_count": null,
   "metadata": {},
   "outputs": [],
   "source": [
    "## Run 2: Compiled Regularized ConvNet\n",
    "#generator = ImageDataGenerator(horizontal_flip=True, vertical_flip=True)\n",
    "#utils.epoch_curve_generator(model_function, data, labels, generator, 32, 0.3, range(1, 41), [auroc, accuracy])"
   ]
  },
  {
   "cell_type": "code",
   "execution_count": null,
   "metadata": {},
   "outputs": [],
   "source": [
    "## Run 3: Complied Convnet and Compiled Regularized Convnet with 5-fold cross-validation\n",
    "# utils.cross_validation(model_function, data, labels, 5, 20, metrics_array=text)"
   ]
  }
 ],
 "metadata": {
  "kernelspec": {
   "display_name": "Python 3",
   "language": "python",
   "name": "python3"
  },
  "language_info": {
   "codemirror_mode": {
    "name": "ipython",
    "version": 3
   },
   "file_extension": ".py",
   "mimetype": "text/x-python",
   "name": "python",
   "nbconvert_exporter": "python",
   "pygments_lexer": "ipython3",
   "version": "3.6.3"
  }
 },
 "nbformat": 4,
 "nbformat_minor": 2
}
