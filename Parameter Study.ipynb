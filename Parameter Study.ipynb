{
 "cells": [
  {
   "cell_type": "code",
   "execution_count": 76,
   "metadata": {},
   "outputs": [],
   "source": [
    "import utils, models_preprocessing, metrics\n",
    "import numpy as np\n",
    "import matplotlib.pyplot as plt\n",
    "import itertools\n",
    "import os\n",
    "import PIL.Image\n",
    "from sklearn.metrics import confusion_matrix\n",
    "from sklearn.model_selection import train_test_split\n",
    "import pandas as pd\n",
    "from scipy import stats, integrate\n",
    "import seaborn as sns\n",
    "sns.set(color_codes=True)\n",
    "np.random.seed(sum(map(ord, \"distributions\")))\n",
    "\n",
    "from keras import models\n",
    "from keras.models import save_model, load_model\n",
    "from keras.preprocessing import image\n",
    "from quiver_engine import server"
   ]
  },
  {
   "cell_type": "code",
   "execution_count": 3,
   "metadata": {},
   "outputs": [],
   "source": [
    "csv_file = pd.read_csv('classifications.csv', low_memory=False)"
   ]
  },
  {
   "cell_type": "code",
   "execution_count": 4,
   "metadata": {},
   "outputs": [
    {
     "data": {
      "text/html": [
       "<div>\n",
       "<style scoped>\n",
       "    .dataframe tbody tr th:only-of-type {\n",
       "        vertical-align: middle;\n",
       "    }\n",
       "\n",
       "    .dataframe tbody tr th {\n",
       "        vertical-align: top;\n",
       "    }\n",
       "\n",
       "    .dataframe thead th {\n",
       "        text-align: right;\n",
       "    }\n",
       "</style>\n",
       "<table border=\"1\" class=\"dataframe\">\n",
       "  <thead>\n",
       "    <tr style=\"text-align: right;\">\n",
       "      <th></th>\n",
       "      <th>ID</th>\n",
       "      <th>is_lens</th>\n",
       "      <th>Einstein_area</th>\n",
       "      <th>numb_pix_lensed_image</th>\n",
       "      <th>flux_lensed_image_in_sigma</th>\n",
       "    </tr>\n",
       "  </thead>\n",
       "  <tbody>\n",
       "    <tr>\n",
       "      <th>0</th>\n",
       "      <td>100000</td>\n",
       "      <td>1</td>\n",
       "      <td>6.040000e-10</td>\n",
       "      <td>804</td>\n",
       "      <td>3714.6800</td>\n",
       "    </tr>\n",
       "    <tr>\n",
       "      <th>1</th>\n",
       "      <td>100001</td>\n",
       "      <td>0</td>\n",
       "      <td>4.700000e-11</td>\n",
       "      <td>0</td>\n",
       "      <td>0.0000</td>\n",
       "    </tr>\n",
       "    <tr>\n",
       "      <th>2</th>\n",
       "      <td>100002</td>\n",
       "      <td>1</td>\n",
       "      <td>7.180000e-11</td>\n",
       "      <td>51</td>\n",
       "      <td>57.6093</td>\n",
       "    </tr>\n",
       "    <tr>\n",
       "      <th>3</th>\n",
       "      <td>100003</td>\n",
       "      <td>1</td>\n",
       "      <td>1.760000e-11</td>\n",
       "      <td>347</td>\n",
       "      <td>18815.4000</td>\n",
       "    </tr>\n",
       "    <tr>\n",
       "      <th>4</th>\n",
       "      <td>100004</td>\n",
       "      <td>0</td>\n",
       "      <td>2.030000e-09</td>\n",
       "      <td>0</td>\n",
       "      <td>0.0000</td>\n",
       "    </tr>\n",
       "  </tbody>\n",
       "</table>\n",
       "</div>"
      ],
      "text/plain": [
       "       ID  is_lens  Einstein_area  numb_pix_lensed_image  \\\n",
       "0  100000        1   6.040000e-10                    804   \n",
       "1  100001        0   4.700000e-11                      0   \n",
       "2  100002        1   7.180000e-11                     51   \n",
       "3  100003        1   1.760000e-11                    347   \n",
       "4  100004        0   2.030000e-09                      0   \n",
       "\n",
       "   flux_lensed_image_in_sigma  \n",
       "0                   3714.6800  \n",
       "1                      0.0000  \n",
       "2                     57.6093  \n",
       "3                  18815.4000  \n",
       "4                      0.0000  "
      ]
     },
     "execution_count": 4,
     "metadata": {},
     "output_type": "execute_result"
    }
   ],
   "source": [
    "csv_file.head()"
   ]
  },
  {
   "cell_type": "code",
   "execution_count": 5,
   "metadata": {},
   "outputs": [],
   "source": [
    "data = np.load('data/imadjust.npy')\n",
    "labels = np.load('labels/classification.npy')"
   ]
  },
  {
   "cell_type": "code",
   "execution_count": 6,
   "metadata": {},
   "outputs": [],
   "source": [
    "model_function = models_preprocessing.compiledConvnet\n",
    "auroc = metrics.auroc\n",
    "accuracy = metrics.accuracy\n",
    "text = metrics.basicTextMetrics"
   ]
  },
  {
   "cell_type": "code",
   "execution_count": 7,
   "metadata": {},
   "outputs": [],
   "source": [
    "%matplotlib inline"
   ]
  },
  {
   "cell_type": "code",
   "execution_count": 8,
   "metadata": {},
   "outputs": [],
   "source": [
    "Xtrain, Xtest, Ytrain, Ytest = train_test_split(data, labels, test_size=0.2, shuffle=False)"
   ]
  },
  {
   "cell_type": "code",
   "execution_count": 9,
   "metadata": {},
   "outputs": [
    {
     "name": "stdout",
     "output_type": "stream",
     "text": [
      "Epoch 1/20\n",
      "16000/16000 [==============================] - 114s 7ms/step - loss: 0.5491 - acc: 0.7305\n",
      "Epoch 2/20\n",
      "16000/16000 [==============================] - 114s 7ms/step - loss: 0.4349 - acc: 0.8041\n",
      "Epoch 3/20\n",
      "16000/16000 [==============================] - 113s 7ms/step - loss: 0.3777 - acc: 0.8367\n",
      "Epoch 4/20\n",
      "16000/16000 [==============================] - 113s 7ms/step - loss: 0.3351 - acc: 0.8559\n",
      "Epoch 5/20\n",
      "16000/16000 [==============================] - 113s 7ms/step - loss: 0.3025 - acc: 0.8734\n",
      "Epoch 6/20\n",
      "16000/16000 [==============================] - 113s 7ms/step - loss: 0.2738 - acc: 0.8870\n",
      "Epoch 7/20\n",
      "16000/16000 [==============================] - 113s 7ms/step - loss: 0.2454 - acc: 0.8988\n",
      "Epoch 8/20\n",
      "16000/16000 [==============================] - 113s 7ms/step - loss: 0.2200 - acc: 0.9139\n",
      "Epoch 9/20\n",
      "16000/16000 [==============================] - 114s 7ms/step - loss: 0.1993 - acc: 0.9208\n",
      "Epoch 10/20\n",
      "16000/16000 [==============================] - 113s 7ms/step - loss: 0.1784 - acc: 0.9313\n",
      "Epoch 11/20\n",
      "16000/16000 [==============================] - 113s 7ms/step - loss: 0.1568 - acc: 0.9397\n",
      "Epoch 12/20\n",
      "16000/16000 [==============================] - 114s 7ms/step - loss: 0.1368 - acc: 0.9497\n",
      "Epoch 13/20\n",
      "16000/16000 [==============================] - 114s 7ms/step - loss: 0.1185 - acc: 0.9569\n",
      "Epoch 14/20\n",
      "16000/16000 [==============================] - 113s 7ms/step - loss: 0.1080 - acc: 0.9595\n",
      "Epoch 15/20\n",
      "16000/16000 [==============================] - 114s 7ms/step - loss: 0.0936 - acc: 0.9670\n",
      "Epoch 16/20\n",
      "16000/16000 [==============================] - 114s 7ms/step - loss: 0.0780 - acc: 0.9746\n",
      "Epoch 17/20\n",
      "16000/16000 [==============================] - 113s 7ms/step - loss: 0.0677 - acc: 0.9774\n",
      "Epoch 18/20\n",
      "16000/16000 [==============================] - 113s 7ms/step - loss: 0.0532 - acc: 0.9840\n",
      "Epoch 19/20\n",
      "16000/16000 [==============================] - 114s 7ms/step - loss: 0.0456 - acc: 0.9861\n",
      "Epoch 20/20\n",
      "16000/16000 [==============================] - 113s 7ms/step - loss: 0.0399 - acc: 0.9892\n"
     ]
    }
   ],
   "source": [
    "model = utils.train(model_function(), 20, Xtrain, Ytrain)"
   ]
  },
  {
   "cell_type": "code",
   "execution_count": 10,
   "metadata": {},
   "outputs": [],
   "source": [
    "os.makedirs('models', exist_ok=True)\n",
    "PATH = 'models/'"
   ]
  },
  {
   "cell_type": "code",
   "execution_count": 11,
   "metadata": {},
   "outputs": [],
   "source": [
    "save_model(model, f'{PATH}model_cConv.hdf5')"
   ]
  },
  {
   "cell_type": "code",
   "execution_count": 12,
   "metadata": {},
   "outputs": [
    {
     "name": "stdout",
     "output_type": "stream",
     "text": [
      "_________________________________________________________________\n",
      "Layer (type)                 Output Shape              Param #   \n",
      "=================================================================\n",
      "conv2d_1 (Conv2D)            (None, 50, 50, 64)        2368      \n",
      "_________________________________________________________________\n",
      "conv2d_2 (Conv2D)            (None, 24, 24, 32)        18464     \n",
      "_________________________________________________________________\n",
      "conv2d_3 (Conv2D)            (None, 22, 22, 16)        4624      \n",
      "_________________________________________________________________\n",
      "max_pooling2d_1 (MaxPooling2 (None, 11, 11, 16)        0         \n",
      "_________________________________________________________________\n",
      "flatten_1 (Flatten)          (None, 1936)              0         \n",
      "_________________________________________________________________\n",
      "dense_1 (Dense)              (None, 128)               247936    \n",
      "_________________________________________________________________\n",
      "dense_2 (Dense)              (None, 32)                4128      \n",
      "_________________________________________________________________\n",
      "dense_3 (Dense)              (None, 1)                 33        \n",
      "=================================================================\n",
      "Total params: 277,553\n",
      "Trainable params: 277,553\n",
      "Non-trainable params: 0\n",
      "_________________________________________________________________\n"
     ]
    }
   ],
   "source": [
    "model = load_model(f'{PATH}model_cConv.hdf5')\n",
    "model.summary()"
   ]
  },
  {
   "cell_type": "code",
   "execution_count": 13,
   "metadata": {},
   "outputs": [],
   "source": [
    "preds_test = model.predict_classes(Xtest)\n",
    "probs_test = model.predict(Xtest)"
   ]
  },
  {
   "cell_type": "code",
   "execution_count": 14,
   "metadata": {},
   "outputs": [],
   "source": [
    "preds_data = model.predict_classes(data)\n",
    "probs_data = model.predict(data)"
   ]
  },
  {
   "cell_type": "code",
   "execution_count": 15,
   "metadata": {},
   "outputs": [
    {
     "name": "stdout",
     "output_type": "stream",
     "text": [
      "4000/4000 [==============================] - 13s 3ms/step\n"
     ]
    },
    {
     "data": {
      "text/plain": [
       "[0.55888201680779459, 0.85050000000000003]"
      ]
     },
     "execution_count": 15,
     "metadata": {},
     "output_type": "execute_result"
    }
   ],
   "source": [
    "model.evaluate(Xtest, Ytest)"
   ]
  },
  {
   "cell_type": "code",
   "execution_count": 22,
   "metadata": {},
   "outputs": [
    {
     "data": {
      "text/plain": [
       "array([[1],\n",
       "       [0],\n",
       "       [0],\n",
       "       ..., \n",
       "       [0],\n",
       "       [0],\n",
       "       [0]], dtype=int32)"
      ]
     },
     "execution_count": 22,
     "metadata": {},
     "output_type": "execute_result"
    }
   ],
   "source": [
    "preds_test"
   ]
  },
  {
   "cell_type": "code",
   "execution_count": 24,
   "metadata": {},
   "outputs": [
    {
     "data": {
      "text/html": [
       "<div>\n",
       "<style scoped>\n",
       "    .dataframe tbody tr th:only-of-type {\n",
       "        vertical-align: middle;\n",
       "    }\n",
       "\n",
       "    .dataframe tbody tr th {\n",
       "        vertical-align: top;\n",
       "    }\n",
       "\n",
       "    .dataframe thead th {\n",
       "        text-align: right;\n",
       "    }\n",
       "</style>\n",
       "<table border=\"1\" class=\"dataframe\">\n",
       "  <thead>\n",
       "    <tr style=\"text-align: right;\">\n",
       "      <th></th>\n",
       "      <th>ID</th>\n",
       "      <th>is_lens</th>\n",
       "      <th>Einstein_area</th>\n",
       "      <th>numb_pix_lensed_image</th>\n",
       "      <th>flux_lensed_image_in_sigma</th>\n",
       "    </tr>\n",
       "  </thead>\n",
       "  <tbody>\n",
       "    <tr>\n",
       "      <th>0</th>\n",
       "      <td>100000</td>\n",
       "      <td>1</td>\n",
       "      <td>6.040000e-10</td>\n",
       "      <td>804</td>\n",
       "      <td>3714.6800</td>\n",
       "    </tr>\n",
       "    <tr>\n",
       "      <th>1</th>\n",
       "      <td>100001</td>\n",
       "      <td>0</td>\n",
       "      <td>4.700000e-11</td>\n",
       "      <td>0</td>\n",
       "      <td>0.0000</td>\n",
       "    </tr>\n",
       "    <tr>\n",
       "      <th>2</th>\n",
       "      <td>100002</td>\n",
       "      <td>1</td>\n",
       "      <td>7.180000e-11</td>\n",
       "      <td>51</td>\n",
       "      <td>57.6093</td>\n",
       "    </tr>\n",
       "    <tr>\n",
       "      <th>3</th>\n",
       "      <td>100003</td>\n",
       "      <td>1</td>\n",
       "      <td>1.760000e-11</td>\n",
       "      <td>347</td>\n",
       "      <td>18815.4000</td>\n",
       "    </tr>\n",
       "    <tr>\n",
       "      <th>4</th>\n",
       "      <td>100004</td>\n",
       "      <td>0</td>\n",
       "      <td>2.030000e-09</td>\n",
       "      <td>0</td>\n",
       "      <td>0.0000</td>\n",
       "    </tr>\n",
       "  </tbody>\n",
       "</table>\n",
       "</div>"
      ],
      "text/plain": [
       "       ID  is_lens  Einstein_area  numb_pix_lensed_image  \\\n",
       "0  100000        1   6.040000e-10                    804   \n",
       "1  100001        0   4.700000e-11                      0   \n",
       "2  100002        1   7.180000e-11                     51   \n",
       "3  100003        1   1.760000e-11                    347   \n",
       "4  100004        0   2.030000e-09                      0   \n",
       "\n",
       "   flux_lensed_image_in_sigma  \n",
       "0                   3714.6800  \n",
       "1                      0.0000  \n",
       "2                     57.6093  \n",
       "3                  18815.4000  \n",
       "4                      0.0000  "
      ]
     },
     "execution_count": 24,
     "metadata": {},
     "output_type": "execute_result"
    }
   ],
   "source": [
    "csv_file.head()"
   ]
  },
  {
   "cell_type": "code",
   "execution_count": 161,
   "metadata": {},
   "outputs": [],
   "source": [
    "csv_test = pd.read_csv('classifications.csv', skiprows=range(1, 16001))"
   ]
  },
  {
   "cell_type": "code",
   "execution_count": 162,
   "metadata": {},
   "outputs": [],
   "source": [
    "csv_test.insert(2, 'is_lens_preds', preds_test)"
   ]
  },
  {
   "cell_type": "code",
   "execution_count": 163,
   "metadata": {},
   "outputs": [
    {
     "data": {
      "text/html": [
       "<div>\n",
       "<style scoped>\n",
       "    .dataframe tbody tr th:only-of-type {\n",
       "        vertical-align: middle;\n",
       "    }\n",
       "\n",
       "    .dataframe tbody tr th {\n",
       "        vertical-align: top;\n",
       "    }\n",
       "\n",
       "    .dataframe thead th {\n",
       "        text-align: right;\n",
       "    }\n",
       "</style>\n",
       "<table border=\"1\" class=\"dataframe\">\n",
       "  <thead>\n",
       "    <tr style=\"text-align: right;\">\n",
       "      <th></th>\n",
       "      <th>ID</th>\n",
       "      <th>is_lens</th>\n",
       "      <th>is_lens_preds</th>\n",
       "      <th>Einstein_area</th>\n",
       "      <th>numb_pix_lensed_image</th>\n",
       "      <th>flux_lensed_image_in_sigma</th>\n",
       "    </tr>\n",
       "  </thead>\n",
       "  <tbody>\n",
       "    <tr>\n",
       "      <th>0</th>\n",
       "      <td>116000</td>\n",
       "      <td>0</td>\n",
       "      <td>1</td>\n",
       "      <td>1.720000e-09</td>\n",
       "      <td>0</td>\n",
       "      <td>0.000</td>\n",
       "    </tr>\n",
       "    <tr>\n",
       "      <th>1</th>\n",
       "      <td>116001</td>\n",
       "      <td>1</td>\n",
       "      <td>0</td>\n",
       "      <td>8.610000e-12</td>\n",
       "      <td>69</td>\n",
       "      <td>132.736</td>\n",
       "    </tr>\n",
       "    <tr>\n",
       "      <th>2</th>\n",
       "      <td>116002</td>\n",
       "      <td>0</td>\n",
       "      <td>0</td>\n",
       "      <td>1.390000e-10</td>\n",
       "      <td>0</td>\n",
       "      <td>0.000</td>\n",
       "    </tr>\n",
       "    <tr>\n",
       "      <th>3</th>\n",
       "      <td>116003</td>\n",
       "      <td>1</td>\n",
       "      <td>1</td>\n",
       "      <td>7.060000e-12</td>\n",
       "      <td>120</td>\n",
       "      <td>227.222</td>\n",
       "    </tr>\n",
       "    <tr>\n",
       "      <th>4</th>\n",
       "      <td>116004</td>\n",
       "      <td>1</td>\n",
       "      <td>1</td>\n",
       "      <td>1.890000e-09</td>\n",
       "      <td>104</td>\n",
       "      <td>278.564</td>\n",
       "    </tr>\n",
       "  </tbody>\n",
       "</table>\n",
       "</div>"
      ],
      "text/plain": [
       "       ID  is_lens  is_lens_preds  Einstein_area  numb_pix_lensed_image  \\\n",
       "0  116000        0              1   1.720000e-09                      0   \n",
       "1  116001        1              0   8.610000e-12                     69   \n",
       "2  116002        0              0   1.390000e-10                      0   \n",
       "3  116003        1              1   7.060000e-12                    120   \n",
       "4  116004        1              1   1.890000e-09                    104   \n",
       "\n",
       "   flux_lensed_image_in_sigma  \n",
       "0                       0.000  \n",
       "1                     132.736  \n",
       "2                       0.000  \n",
       "3                     227.222  \n",
       "4                     278.564  "
      ]
     },
     "execution_count": 163,
     "metadata": {},
     "output_type": "execute_result"
    }
   ],
   "source": [
    "csv_test.head()"
   ]
  },
  {
   "cell_type": "code",
   "execution_count": 198,
   "metadata": {},
   "outputs": [],
   "source": [
    "Einstein_radius = np.sqrt(csv_test.Einstein_area / (2 * np.pi))"
   ]
  },
  {
   "cell_type": "code",
   "execution_count": 200,
   "metadata": {},
   "outputs": [],
   "source": [
    "csv_test['Einstein_radius'] = Einstein_radius"
   ]
  },
  {
   "cell_type": "code",
   "execution_count": 201,
   "metadata": {},
   "outputs": [
    {
     "data": {
      "text/html": [
       "<div>\n",
       "<style scoped>\n",
       "    .dataframe tbody tr th:only-of-type {\n",
       "        vertical-align: middle;\n",
       "    }\n",
       "\n",
       "    .dataframe tbody tr th {\n",
       "        vertical-align: top;\n",
       "    }\n",
       "\n",
       "    .dataframe thead th {\n",
       "        text-align: right;\n",
       "    }\n",
       "</style>\n",
       "<table border=\"1\" class=\"dataframe\">\n",
       "  <thead>\n",
       "    <tr style=\"text-align: right;\">\n",
       "      <th></th>\n",
       "      <th>ID</th>\n",
       "      <th>is_lens</th>\n",
       "      <th>is_lens_preds</th>\n",
       "      <th>Einstein_area</th>\n",
       "      <th>numb_pix_lensed_image</th>\n",
       "      <th>flux_lensed_image_in_sigma</th>\n",
       "      <th>Einstein_radius</th>\n",
       "    </tr>\n",
       "  </thead>\n",
       "  <tbody>\n",
       "    <tr>\n",
       "      <th>0</th>\n",
       "      <td>116000</td>\n",
       "      <td>0</td>\n",
       "      <td>1</td>\n",
       "      <td>1.720000e-09</td>\n",
       "      <td>0</td>\n",
       "      <td>0.000</td>\n",
       "      <td>0.000017</td>\n",
       "    </tr>\n",
       "    <tr>\n",
       "      <th>1</th>\n",
       "      <td>116001</td>\n",
       "      <td>1</td>\n",
       "      <td>0</td>\n",
       "      <td>8.610000e-12</td>\n",
       "      <td>69</td>\n",
       "      <td>132.736</td>\n",
       "      <td>0.000001</td>\n",
       "    </tr>\n",
       "    <tr>\n",
       "      <th>2</th>\n",
       "      <td>116002</td>\n",
       "      <td>0</td>\n",
       "      <td>0</td>\n",
       "      <td>1.390000e-10</td>\n",
       "      <td>0</td>\n",
       "      <td>0.000</td>\n",
       "      <td>0.000005</td>\n",
       "    </tr>\n",
       "    <tr>\n",
       "      <th>3</th>\n",
       "      <td>116003</td>\n",
       "      <td>1</td>\n",
       "      <td>1</td>\n",
       "      <td>7.060000e-12</td>\n",
       "      <td>120</td>\n",
       "      <td>227.222</td>\n",
       "      <td>0.000001</td>\n",
       "    </tr>\n",
       "    <tr>\n",
       "      <th>4</th>\n",
       "      <td>116004</td>\n",
       "      <td>1</td>\n",
       "      <td>1</td>\n",
       "      <td>1.890000e-09</td>\n",
       "      <td>104</td>\n",
       "      <td>278.564</td>\n",
       "      <td>0.000017</td>\n",
       "    </tr>\n",
       "  </tbody>\n",
       "</table>\n",
       "</div>"
      ],
      "text/plain": [
       "       ID  is_lens  is_lens_preds  Einstein_area  numb_pix_lensed_image  \\\n",
       "0  116000        0              1   1.720000e-09                      0   \n",
       "1  116001        1              0   8.610000e-12                     69   \n",
       "2  116002        0              0   1.390000e-10                      0   \n",
       "3  116003        1              1   7.060000e-12                    120   \n",
       "4  116004        1              1   1.890000e-09                    104   \n",
       "\n",
       "   flux_lensed_image_in_sigma  Einstein_radius  \n",
       "0                       0.000         0.000017  \n",
       "1                     132.736         0.000001  \n",
       "2                       0.000         0.000005  \n",
       "3                     227.222         0.000001  \n",
       "4                     278.564         0.000017  "
      ]
     },
     "execution_count": 201,
     "metadata": {},
     "output_type": "execute_result"
    }
   ],
   "source": [
    "csv_test.head()"
   ]
  },
  {
   "cell_type": "code",
   "execution_count": 228,
   "metadata": {},
   "outputs": [],
   "source": [
    "csv_test.insert(3, 'probs', probs_test)"
   ]
  },
  {
   "cell_type": "code",
   "execution_count": 229,
   "metadata": {},
   "outputs": [
    {
     "data": {
      "text/html": [
       "<div>\n",
       "<style scoped>\n",
       "    .dataframe tbody tr th:only-of-type {\n",
       "        vertical-align: middle;\n",
       "    }\n",
       "\n",
       "    .dataframe tbody tr th {\n",
       "        vertical-align: top;\n",
       "    }\n",
       "\n",
       "    .dataframe thead th {\n",
       "        text-align: right;\n",
       "    }\n",
       "</style>\n",
       "<table border=\"1\" class=\"dataframe\">\n",
       "  <thead>\n",
       "    <tr style=\"text-align: right;\">\n",
       "      <th></th>\n",
       "      <th>ID</th>\n",
       "      <th>is_lens</th>\n",
       "      <th>is_lens_preds</th>\n",
       "      <th>probs</th>\n",
       "      <th>Einstein_area</th>\n",
       "      <th>numb_pix_lensed_image</th>\n",
       "      <th>flux_lensed_image_in_sigma</th>\n",
       "      <th>Einstein_radius</th>\n",
       "    </tr>\n",
       "  </thead>\n",
       "  <tbody>\n",
       "    <tr>\n",
       "      <th>0</th>\n",
       "      <td>116000</td>\n",
       "      <td>0</td>\n",
       "      <td>1</td>\n",
       "      <td>0.999989</td>\n",
       "      <td>1.720000e-09</td>\n",
       "      <td>0</td>\n",
       "      <td>0.000</td>\n",
       "      <td>0.000017</td>\n",
       "    </tr>\n",
       "    <tr>\n",
       "      <th>1</th>\n",
       "      <td>116001</td>\n",
       "      <td>1</td>\n",
       "      <td>0</td>\n",
       "      <td>0.101402</td>\n",
       "      <td>8.610000e-12</td>\n",
       "      <td>69</td>\n",
       "      <td>132.736</td>\n",
       "      <td>0.000001</td>\n",
       "    </tr>\n",
       "    <tr>\n",
       "      <th>2</th>\n",
       "      <td>116002</td>\n",
       "      <td>0</td>\n",
       "      <td>0</td>\n",
       "      <td>0.000594</td>\n",
       "      <td>1.390000e-10</td>\n",
       "      <td>0</td>\n",
       "      <td>0.000</td>\n",
       "      <td>0.000005</td>\n",
       "    </tr>\n",
       "    <tr>\n",
       "      <th>3</th>\n",
       "      <td>116003</td>\n",
       "      <td>1</td>\n",
       "      <td>1</td>\n",
       "      <td>0.999986</td>\n",
       "      <td>7.060000e-12</td>\n",
       "      <td>120</td>\n",
       "      <td>227.222</td>\n",
       "      <td>0.000001</td>\n",
       "    </tr>\n",
       "    <tr>\n",
       "      <th>4</th>\n",
       "      <td>116004</td>\n",
       "      <td>1</td>\n",
       "      <td>1</td>\n",
       "      <td>0.999812</td>\n",
       "      <td>1.890000e-09</td>\n",
       "      <td>104</td>\n",
       "      <td>278.564</td>\n",
       "      <td>0.000017</td>\n",
       "    </tr>\n",
       "  </tbody>\n",
       "</table>\n",
       "</div>"
      ],
      "text/plain": [
       "       ID  is_lens  is_lens_preds     probs  Einstein_area  \\\n",
       "0  116000        0              1  0.999989   1.720000e-09   \n",
       "1  116001        1              0  0.101402   8.610000e-12   \n",
       "2  116002        0              0  0.000594   1.390000e-10   \n",
       "3  116003        1              1  0.999986   7.060000e-12   \n",
       "4  116004        1              1  0.999812   1.890000e-09   \n",
       "\n",
       "   numb_pix_lensed_image  flux_lensed_image_in_sigma  Einstein_radius  \n",
       "0                      0                       0.000         0.000017  \n",
       "1                     69                     132.736         0.000001  \n",
       "2                      0                       0.000         0.000005  \n",
       "3                    120                     227.222         0.000001  \n",
       "4                    104                     278.564         0.000017  "
      ]
     },
     "execution_count": 229,
     "metadata": {},
     "output_type": "execute_result"
    }
   ],
   "source": [
    "csv_test.head()"
   ]
  },
  {
   "cell_type": "code",
   "execution_count": 230,
   "metadata": {},
   "outputs": [],
   "source": [
    "negatives = csv_test[csv_test.is_lens == 0]; positives = csv_test[csv_test.is_lens == 1]"
   ]
  },
  {
   "cell_type": "code",
   "execution_count": 231,
   "metadata": {},
   "outputs": [],
   "source": [
    "fn = positives[positives.is_lens_preds == 0]; fp = negatives[negatives.is_lens_preds == 1]"
   ]
  },
  {
   "cell_type": "code",
   "execution_count": 232,
   "metadata": {},
   "outputs": [],
   "source": [
    "tn = negatives[negatives.is_lens_preds == 0]; tp = positives[positives.is_lens_preds == 1]"
   ]
  },
  {
   "cell_type": "code",
   "execution_count": 233,
   "metadata": {},
   "outputs": [
    {
     "data": {
      "text/html": [
       "<div>\n",
       "<style scoped>\n",
       "    .dataframe tbody tr th:only-of-type {\n",
       "        vertical-align: middle;\n",
       "    }\n",
       "\n",
       "    .dataframe tbody tr th {\n",
       "        vertical-align: top;\n",
       "    }\n",
       "\n",
       "    .dataframe thead th {\n",
       "        text-align: right;\n",
       "    }\n",
       "</style>\n",
       "<table border=\"1\" class=\"dataframe\">\n",
       "  <thead>\n",
       "    <tr style=\"text-align: right;\">\n",
       "      <th></th>\n",
       "      <th>ID</th>\n",
       "      <th>is_lens</th>\n",
       "      <th>is_lens_preds</th>\n",
       "      <th>probs</th>\n",
       "      <th>Einstein_area</th>\n",
       "      <th>numb_pix_lensed_image</th>\n",
       "      <th>flux_lensed_image_in_sigma</th>\n",
       "      <th>Einstein_radius</th>\n",
       "    </tr>\n",
       "  </thead>\n",
       "  <tbody>\n",
       "    <tr>\n",
       "      <th>1</th>\n",
       "      <td>116001</td>\n",
       "      <td>1</td>\n",
       "      <td>0</td>\n",
       "      <td>0.101402</td>\n",
       "      <td>8.610000e-12</td>\n",
       "      <td>69</td>\n",
       "      <td>132.7360</td>\n",
       "      <td>0.000001</td>\n",
       "    </tr>\n",
       "    <tr>\n",
       "      <th>5</th>\n",
       "      <td>116005</td>\n",
       "      <td>1</td>\n",
       "      <td>0</td>\n",
       "      <td>0.194538</td>\n",
       "      <td>1.740000e-09</td>\n",
       "      <td>20</td>\n",
       "      <td>26.3226</td>\n",
       "      <td>0.000017</td>\n",
       "    </tr>\n",
       "    <tr>\n",
       "      <th>41</th>\n",
       "      <td>116041</td>\n",
       "      <td>1</td>\n",
       "      <td>0</td>\n",
       "      <td>0.400790</td>\n",
       "      <td>6.530000e-10</td>\n",
       "      <td>62</td>\n",
       "      <td>203.4780</td>\n",
       "      <td>0.000010</td>\n",
       "    </tr>\n",
       "    <tr>\n",
       "      <th>43</th>\n",
       "      <td>116043</td>\n",
       "      <td>1</td>\n",
       "      <td>0</td>\n",
       "      <td>0.290606</td>\n",
       "      <td>5.650000e-11</td>\n",
       "      <td>70</td>\n",
       "      <td>135.2580</td>\n",
       "      <td>0.000003</td>\n",
       "    </tr>\n",
       "    <tr>\n",
       "      <th>63</th>\n",
       "      <td>116063</td>\n",
       "      <td>1</td>\n",
       "      <td>0</td>\n",
       "      <td>0.237350</td>\n",
       "      <td>1.040000e-10</td>\n",
       "      <td>81</td>\n",
       "      <td>195.1370</td>\n",
       "      <td>0.000004</td>\n",
       "    </tr>\n",
       "  </tbody>\n",
       "</table>\n",
       "</div>"
      ],
      "text/plain": [
       "        ID  is_lens  is_lens_preds     probs  Einstein_area  \\\n",
       "1   116001        1              0  0.101402   8.610000e-12   \n",
       "5   116005        1              0  0.194538   1.740000e-09   \n",
       "41  116041        1              0  0.400790   6.530000e-10   \n",
       "43  116043        1              0  0.290606   5.650000e-11   \n",
       "63  116063        1              0  0.237350   1.040000e-10   \n",
       "\n",
       "    numb_pix_lensed_image  flux_lensed_image_in_sigma  Einstein_radius  \n",
       "1                      69                    132.7360         0.000001  \n",
       "5                      20                     26.3226         0.000017  \n",
       "41                     62                    203.4780         0.000010  \n",
       "43                     70                    135.2580         0.000003  \n",
       "63                     81                    195.1370         0.000004  "
      ]
     },
     "execution_count": 233,
     "metadata": {},
     "output_type": "execute_result"
    }
   ],
   "source": [
    "fn.head()"
   ]
  },
  {
   "cell_type": "code",
   "execution_count": 234,
   "metadata": {},
   "outputs": [
    {
     "name": "stdout",
     "output_type": "stream",
     "text": [
      "2074 299\n",
      "299 1328\n"
     ]
    }
   ],
   "source": [
    "print(len(tn), len(fp))\n",
    "print(len(fn), len(tp))"
   ]
  },
  {
   "cell_type": "markdown",
   "metadata": {
    "heading_collapsed": true
   },
   "source": [
    "### Einstein Area Histograms"
   ]
  },
  {
   "cell_type": "code",
   "execution_count": 169,
   "metadata": {
    "hidden": true
   },
   "outputs": [
    {
     "data": {
      "image/png": "[encoded data removed]",
      "text/plain": [
       "<matplotlib.figure.Figure at 0x7f78bb599cf8>"
      ]
     },
     "metadata": {},
     "output_type": "display_data"
    }
   ],
   "source": [
    "sns.distplot(fn.Einstein_area, kde=False, bins=50)\n",
    "sns.distplot(tp.Einstein_area, kde=False, bins=50)\n",
    "plt.legend(['false negatives', 'true positives']);"
   ]
  },
  {
   "cell_type": "code",
   "execution_count": 170,
   "metadata": {
    "hidden": true
   },
   "outputs": [
    {
     "data": {
      "image/png": "[encoded data removed]",
      "text/plain": [
       "<matplotlib.figure.Figure at 0x7f78bbf14c50>"
      ]
     },
     "metadata": {},
     "output_type": "display_data"
    }
   ],
   "source": [
    "sns.distplot(fp.Einstein_area, kde=False, bins=50)\n",
    "sns.distplot(tn.Einstein_area, kde=False, bins=50)\n",
    "plt.legend(['false positives', 'true negatives']);"
   ]
  },
  {
   "cell_type": "markdown",
   "metadata": {
    "heading_collapsed": true
   },
   "source": [
    "### Einstein Area Kernel Density Estimations"
   ]
  },
  {
   "cell_type": "code",
   "execution_count": 171,
   "metadata": {
    "hidden": true
   },
   "outputs": [
    {
     "data": {
      "image/png": "[encoded data removed]",
      "text/plain": [
       "<matplotlib.figure.Figure at 0x7f78bbf37438>"
      ]
     },
     "metadata": {},
     "output_type": "display_data"
    }
   ],
   "source": [
    "sns.kdeplot(fn.Einstein_area, shade=True, label=\"false negatives\")\n",
    "sns.kdeplot(tp.Einstein_area, shade=True, label=\"true positives\")\n",
    "plt.xlabel('Einstein_area')\n",
    "plt.legend;"
   ]
  },
  {
   "cell_type": "code",
   "execution_count": 172,
   "metadata": {
    "hidden": true
   },
   "outputs": [
    {
     "data": {
      "image/png": "[encoded data removed]",
      "text/plain": [
       "<matplotlib.figure.Figure at 0x7f78bb599a90>"
      ]
     },
     "metadata": {},
     "output_type": "display_data"
    }
   ],
   "source": [
    "sns.kdeplot(fp.Einstein_area, shade=True, label=\"false positives\")\n",
    "sns.kdeplot(tn.Einstein_area, shade=True, label=\"true negatives\")\n",
    "plt.xlabel('Einstein_area')\n",
    "plt.legend;"
   ]
  },
  {
   "cell_type": "markdown",
   "metadata": {
    "heading_collapsed": true
   },
   "source": [
    "### Other Histograms"
   ]
  },
  {
   "cell_type": "code",
   "execution_count": 173,
   "metadata": {
    "hidden": true
   },
   "outputs": [
    {
     "data": {
      "image/png": "[encoded data removed]",
      "text/plain": [
       "<matplotlib.figure.Figure at 0x7f78bb3bb908>"
      ]
     },
     "metadata": {},
     "output_type": "display_data"
    }
   ],
   "source": [
    "sns.distplot(fn.numb_pix_lensed_image, kde=False, bins=20)\n",
    "sns.distplot(tp.numb_pix_lensed_image, kde=False, bins=20)\n",
    "plt.legend(['false negatives', 'true positives']);"
   ]
  },
  {
   "cell_type": "code",
   "execution_count": 174,
   "metadata": {
    "hidden": true
   },
   "outputs": [
    {
     "data": {
      "image/png": "[encoded data removed]",
      "text/plain": [
       "<matplotlib.figure.Figure at 0x7f78c0066e48>"
      ]
     },
     "metadata": {},
     "output_type": "display_data"
    }
   ],
   "source": [
    "sns.distplot(fp.numb_pix_lensed_image, kde=False, bins=20)\n",
    "sns.distplot(tn.numb_pix_lensed_image, kde=False, bins=20)\n",
    "plt.legend(['false positives', 'true negatives']);"
   ]
  },
  {
   "cell_type": "markdown",
   "metadata": {},
   "source": [
    "### Linear relationships"
   ]
  },
  {
   "cell_type": "code",
   "execution_count": null,
   "metadata": {},
   "outputs": [],
   "source": []
  },
  {
   "cell_type": "markdown",
   "metadata": {},
   "source": [
    "### Number of Pixels in Lensed image"
   ]
  },
  {
   "cell_type": "code",
   "execution_count": 216,
   "metadata": {},
   "outputs": [
    {
     "data": {
      "image/png": "[encoded data removed]",
      "text/plain": [
       "<matplotlib.figure.Figure at 0x7f78c046f748>"
      ]
     },
     "metadata": {},
     "output_type": "display_data"
    }
   ],
   "source": [
    "sns.distplot(tp.numb_pix_lensed_image, kde=False, bins=20)\n",
    "sns.distplot(fn.numb_pix_lensed_image, kde=False, bins=20)\n",
    "plt.legend(['true positives', 'false negatives']);"
   ]
  },
  {
   "cell_type": "markdown",
   "metadata": {},
   "source": [
    "### Flux of Lensed Image"
   ]
  },
  {
   "cell_type": "code",
   "execution_count": null,
   "metadata": {},
   "outputs": [],
   "source": []
  },
  {
   "cell_type": "markdown",
   "metadata": {},
   "source": [
    "### Scatter plots"
   ]
  },
  {
   "cell_type": "code",
   "execution_count": 261,
   "metadata": {},
   "outputs": [
    {
     "data": {
      "image/png": "[encoded data removed]",
      "text/plain": [
       "<matplotlib.figure.Figure at 0x7f78b98332e8>"
      ]
     },
     "metadata": {},
     "output_type": "display_data"
    }
   ],
   "source": [
    "sns.lmplot(x='Einstein_area', y='numb_pix_lensed_image', data=positives, fit_reg=False, hue='is_lens_preds')\n",
    "plt.xlim([min(positives.Einstein_area), max(positives.Einstein_area)]);"
   ]
  },
  {
   "cell_type": "code",
   "execution_count": 268,
   "metadata": {},
   "outputs": [
    {
     "data": {
      "image/png": "[encoded data removed]",
      "text/plain": [
       "<matplotlib.figure.Figure at 0x7f78b2f94668>"
      ]
     },
     "metadata": {},
     "output_type": "display_data"
    }
   ],
   "source": [
    "g = sns.FacetGrid(csv_test, col=\"is_lens_preds\")\n",
    "g.map(plt.scatter, 'Einstein_area', 'numb_pix_lensed_image', alpha=.7)\n",
    "plt.xlim([min(csv_test.Einstein_area), max(csv_test.Einstein_area)])\n",
    "g.add_legend();"
   ]
  },
  {
   "cell_type": "code",
   "execution_count": null,
   "metadata": {},
   "outputs": [],
   "source": []
  }
 ],
 "metadata": {
  "kernelspec": {
   "display_name": "Python 3",
   "language": "python",
   "name": "python3"
  },
  "language_info": {
   "codemirror_mode": {
    "name": "ipython",
    "version": 3
   },
   "file_extension": ".py",
   "mimetype": "text/x-python",
   "name": "python",
   "nbconvert_exporter": "python",
   "pygments_lexer": "ipython3",
   "version": "3.6.3"
  }
 },
 "nbformat": 4,
 "nbformat_minor": 2
}
